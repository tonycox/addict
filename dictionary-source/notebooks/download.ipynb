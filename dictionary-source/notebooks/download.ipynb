{
 "cells": [
  {
   "cell_type": "code",
   "execution_count": 1,
   "id": "c0512b72-b723-4c50-bc64-c37ec6cd4c1b",
   "metadata": {},
   "outputs": [],
   "source": [
    "from huggingface_hub import hf_hub_download"
   ]
  },
  {
   "cell_type": "code",
   "execution_count": 2,
   "id": "ebc8b045-4cb8-48c2-b73c-0e000cd3a607",
   "metadata": {},
   "outputs": [
    {
     "data": {
      "application/vnd.jupyter.widget-view+json": {
       "model_id": "df3ecb023b0c45868c1b63c81cbe7d4d",
       "version_major": 2,
       "version_minor": 0
      },
      "text/plain": [
       "Downloading (…)2-13b-chat.Q5_0.gguf:   0%|          | 0.00/8.97G [00:00<?, ?B/s]"
      ]
     },
     "metadata": {},
     "output_type": "display_data"
    },
    {
     "data": {
      "text/plain": [
       "'/Users/asolo5/.cache/huggingface/hub/models--TheBloke--Llama-2-13B-chat-GGUF/snapshots/372a84f9e633b44ca9f9fbac168b6f3c5e9f1c19/llama-2-13b-chat.Q5_0.gguf'"
      ]
     },
     "execution_count": 2,
     "metadata": {},
     "output_type": "execute_result"
    }
   ],
   "source": [
    "hf_hub_download(repo_id=\"TheBloke/Llama-2-13B-chat-GGUF\", filename=\"llama-2-13b-chat.Q5_0.gguf\")"
   ]
  },
  {
   "cell_type": "code",
   "execution_count": 3,
   "id": "d790c919-833a-4308-a683-249313f50c58",
   "metadata": {},
   "outputs": [
    {
     "data": {
      "text/plain": [
       "'/Users/asolo5/Projects/learn/addict/dictionary-source/notebooks'"
      ]
     },
     "execution_count": 3,
     "metadata": {},
     "output_type": "execute_result"
    }
   ],
   "source": [
    "%pwd"
   ]
  },
  {
   "cell_type": "code",
   "execution_count": 15,
   "id": "556d4662-2577-4be2-87f6-f3633c5bd82f",
   "metadata": {},
   "outputs": [],
   "source": [
    "%mv /Users/asolo5/.cache/huggingface/hub/models--TheBloke--Llama-2-13B-chat-GGUF/blobs/3b4b725382d9e5f8e87ddb5eb90c7c8a94be0854c3395b4e5d482e5cfb601668 /Users/asolo5/Projects/learn/addict/dictionary-source/models/llama-2-13b-chat.Q5_0.gguf"
   ]
  },
  {
   "cell_type": "code",
   "execution_count": 4,
   "id": "d5953bc8-503f-46e2-8c94-5b7f02d9e040",
   "metadata": {},
   "outputs": [],
   "source": [
    "%mv /Users/asolo5/.cache/huggingface/hub/models--TheBloke--Llama-2-13B-chat-GGUF/snapshots/372a84f9e633b44ca9f9fbac168b6f3c5e9f1c19/llama-2-13b-chat.Q5_0.gguf /Users/asolo5/Projects/learn/addict/dictionary-source/models/llama-2-13b-chat.Q5_0.gguf"
   ]
  },
  {
   "cell_type": "code",
   "execution_count": null,
   "id": "fc5efd7a-b25e-4c34-9969-def6631c2ef8",
   "metadata": {},
   "outputs": [],
   "source": []
  }
 ],
 "metadata": {
  "kernelspec": {
   "display_name": "Python 3 (ipykernel)",
   "language": "python",
   "name": "python3"
  },
  "language_info": {
   "codemirror_mode": {
    "name": "ipython",
    "version": 3
   },
   "file_extension": ".py",
   "mimetype": "text/x-python",
   "name": "python",
   "nbconvert_exporter": "python",
   "pygments_lexer": "ipython3",
   "version": "3.10.13"
  }
 },
 "nbformat": 4,
 "nbformat_minor": 5
}
